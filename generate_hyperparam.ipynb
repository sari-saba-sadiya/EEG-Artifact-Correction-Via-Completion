{
 "cells": [
  {
   "cell_type": "code",
   "execution_count": 2,
   "metadata": {},
   "outputs": [],
   "source": [
    "import numpy as np"
   ]
  },
  {
   "cell_type": "code",
   "execution_count": 4,
   "metadata": {},
   "outputs": [],
   "source": [
    "np.random.seed(3121)\n",
    "n = 4*2"
   ]
  },
  {
   "cell_type": "code",
   "execution_count": 5,
   "metadata": {},
   "outputs": [],
   "source": [
    "def draw_hp_contiguous_asc(p,starting_from,layers):\n",
    "    g = []\n",
    "    for i in range(0,layers):\n",
    "        if i == 0:\n",
    "            ind = np.random.randint(starting_from) \n",
    "            g.append(p[ind])\n",
    "        elif i > 0:\n",
    "            ind = ind + 1\n",
    "            g.append(p[ind])\n",
    "    return g\n",
    "\n",
    "\n",
    "def draw_hp_with_missing(p,layers):\n",
    "    g = []\n",
    "    for i in range(0,layers):\n",
    "        g.append(p[np.random.randint(len(p))])     \n",
    "    return g"
   ]
  },
  {
   "cell_type": "code",
   "execution_count": 6,
   "metadata": {},
   "outputs": [],
   "source": [
    "num_layers = []   # Number of layers\n",
    "kernal_sizes = [] # Number of filters for layer\n",
    "batch_norm = []   # Batch normalization per layer\n",
    "dropouts = []     # Dropouts per layer\n",
    "momentum = []\n",
    "lr = []\n",
    "nesterov = []"
   ]
  },
  {
   "cell_type": "code",
   "execution_count": 13,
   "metadata": {},
   "outputs": [],
   "source": [
    "for ii in range(n):\n",
    "    # Number of layers\n",
    "    p = [3,3,3,2,2,1]\n",
    "    num_layers.append(p[np.random.randint(len(p))])\n",
    "\n",
    "    # Number of filters for layer\n",
    "    p = [8,16,32,64,128,256]\n",
    "    kernal_sizes.append(draw_hp_contiguous_asc(p,4,num_layers[-1]))\n",
    "\n",
    "    # Batch normalization per layer\n",
    "    p = [1,0]\n",
    "    batch_norm.append(list(np.repeat(p[np.random.randint(len(p))],num_layers[-1])))\n",
    "\n",
    "    # Dropouts per layer\n",
    "    p = [.1,.2,.3,.4,-1,-1,-1,-1]\n",
    "    g = draw_hp_with_missing(p,num_layers[-1])\n",
    "    dropouts.append(g)\n",
    "    \n",
    "    p = [0,0.01,0.001]\n",
    "    g = np.random.choice(p)\n",
    "    momentum.append(g)\n",
    "    \n",
    "    p = [0.01,0.001,0.0001,1e-05,1e-06]\n",
    "    g = np.random.choice(p)\n",
    "    lr.append(g)\n",
    "    \n",
    "    p = [1,0]\n",
    "    g = np.random.choice(p)\n",
    "    nesterov.append(g)"
   ]
  },
  {
   "cell_type": "code",
   "execution_count": 14,
   "metadata": {},
   "outputs": [],
   "source": [
    "hp = {\n",
    "    'num_layers' : num_layers,\n",
    "    'kernal_sizes' : kernal_sizes,\n",
    "    'batch_norm' : batch_norm,\n",
    "    'dropouts' : dropouts,\n",
    "    'momentum' : momentum,\n",
    "    'lr' : lr,\n",
    "    'nesterov' : nesterov\n",
    "}"
   ]
  },
  {
   "cell_type": "code",
   "execution_count": 15,
   "metadata": {},
   "outputs": [],
   "source": [
    "np.save('hyper_parameters.npy',hp)"
   ]
  },
  {
   "cell_type": "code",
   "execution_count": null,
   "metadata": {},
   "outputs": [],
   "source": []
  }
 ],
 "metadata": {
  "kernelspec": {
   "display_name": "Python 3",
   "language": "python",
   "name": "python3"
  },
  "language_info": {
   "codemirror_mode": {
    "name": "ipython",
    "version": 3
   },
   "file_extension": ".py",
   "mimetype": "text/x-python",
   "name": "python",
   "nbconvert_exporter": "python",
   "pygments_lexer": "ipython3",
   "version": "3.7.4"
  }
 },
 "nbformat": 4,
 "nbformat_minor": 4
}
